{
 "cells": [
  {
   "cell_type": "markdown",
   "id": "1f93031f-f21a-4029-bce7-70896fcdeb64",
   "metadata": {},
   "source": [
    "# From FHIR to ML: Getting Started with the PHC Python SDK"
   ]
  },
  {
   "cell_type": "markdown",
   "id": "55c3a07a-552b-4ec6-92a8-5d3430e66d6c",
   "metadata": {},
   "source": [
    "To get started, we simply import the relevant libraries and select our project:"
   ]
  },
  {
   "cell_type": "code",
   "execution_count": 1,
   "id": "c7f75e5a-a3c6-4a95-ac2c-9ca92e3ed03b",
   "metadata": {},
   "outputs": [],
   "source": [
    "# Install release from (09-27-2021)\n",
    "!pip install --upgrade phc==0.23.2"
   ]
  },
  {
   "cell_type": "code",
   "execution_count": 2,
   "id": "de7a804b-94c0-4046-ab3d-e774d2602789",
   "metadata": {},
   "outputs": [
    {
     "name": "stderr",
     "output_type": "stream",
     "text": [
      "/opt/conda/lib/python3.9/site-packages/phc/easy/util/__init__.py:10: TqdmExperimentalWarning: Using `tqdm.autonotebook.tqdm` in notebook mode. Use `tqdm.tqdm` instead to force console mode (e.g. in jupyter console)\n",
      "  from tqdm.autonotebook import tqdm\n"
     ]
    }
   ],
   "source": [
    "# Import phc library\n",
    "import phc.easy as phc\n",
    "\n",
    "from pandas.api.types import CategoricalDtype\n",
    "import pandas as pd\n",
    "\n",
    "from sklearn.ensemble import RandomForestClassifier\n",
    "from sklearn.model_selection import train_test_split\n",
    "from sklearn.metrics import confusion_matrix, ConfusionMatrixDisplay\n",
    "\n",
    "# Many data frames have numerous columns\n",
    "pd.set_option(\"display.max_columns\", 100)\n",
    "\n",
    "SEED = 1337"
   ]
  },
  {
   "cell_type": "code",
   "execution_count": 3,
   "id": "aef89bbc-7d70-46ad-97ed-972b845a2a69",
   "metadata": {},
   "outputs": [
    {
     "data": {
      "text/html": [
       "<div>\n",
       "<style scoped>\n",
       "    .dataframe tbody tr th:only-of-type {\n",
       "        vertical-align: middle;\n",
       "    }\n",
       "\n",
       "    .dataframe tbody tr th {\n",
       "        vertical-align: top;\n",
       "    }\n",
       "\n",
       "    .dataframe thead th {\n",
       "        text-align: right;\n",
       "    }\n",
       "</style>\n",
       "<table border=\"1\" class=\"dataframe\">\n",
       "  <thead>\n",
       "    <tr style=\"text-align: right;\">\n",
       "      <th></th>\n",
       "      <th>id</th>\n",
       "      <th>name</th>\n",
       "      <th>genomeBuild</th>\n",
       "      <th>description</th>\n",
       "      <th>owner</th>\n",
       "      <th>part11</th>\n",
       "      <th>auditLogging</th>\n",
       "      <th>versioning</th>\n",
       "      <th>lrn</th>\n",
       "      <th>mrnConfig</th>\n",
       "      <th>account</th>\n",
       "      <th>shortName</th>\n",
       "    </tr>\n",
       "  </thead>\n",
       "  <tbody>\n",
       "    <tr>\n",
       "      <th>98</th>\n",
       "      <td>34c0fb25-bbde-4eb1-87ed-dd4c7a1ac013</td>\n",
       "      <td>BRCA Research</td>\n",
       "      <td>GRCh38</td>\n",
       "      <td>TCGA BRCA dataset of 1,097 breast cancer patie...</td>\n",
       "      <td>NaN</td>\n",
       "      <td>NaN</td>\n",
       "      <td>False</td>\n",
       "      <td>False</td>\n",
       "      <td>lrn:lo:us:demo:project:34c0fb25-bbde-4eb1-87ed...</td>\n",
       "      <td>{'configType': 'typeCoding', 'system': 'http:/...</td>\n",
       "      <td>demo</td>\n",
       "      <td>NaN</td>\n",
       "    </tr>\n",
       "  </tbody>\n",
       "</table>\n",
       "</div>"
      ],
      "text/plain": [
       "                                      id           name genomeBuild  \\\n",
       "98  34c0fb25-bbde-4eb1-87ed-dd4c7a1ac013  BRCA Research      GRCh38   \n",
       "\n",
       "                                          description owner part11  \\\n",
       "98  TCGA BRCA dataset of 1,097 breast cancer patie...   NaN    NaN   \n",
       "\n",
       "    auditLogging  versioning  \\\n",
       "98         False       False   \n",
       "\n",
       "                                                  lrn  \\\n",
       "98  lrn:lo:us:demo:project:34c0fb25-bbde-4eb1-87ed...   \n",
       "\n",
       "                                            mrnConfig account shortName  \n",
       "98  {'configType': 'typeCoding', 'system': 'http:/...    demo       NaN  "
      ]
     },
     "execution_count": 3,
     "metadata": {},
     "output_type": "execute_result"
    }
   ],
   "source": [
    "# Select the demo BRCA project\n",
    "phc.Project.set_current(\"BRCA\")"
   ]
  },
  {
   "cell_type": "code",
   "execution_count": 4,
   "id": "35fd3280-f08a-49f3-a38d-faf232e360ea",
   "metadata": {},
   "outputs": [
    {
     "data": {
      "text/plain": [
       "'34c0fb25-bbde-4eb1-87ed-dd4c7a1ac013'"
      ]
     },
     "execution_count": 4,
     "metadata": {},
     "output_type": "execute_result"
    }
   ],
   "source": [
    "# This is our shared authentication object (assumed by default)\n",
    "auth = phc.Auth.shared()\n",
    "\n",
    "# Showing the project id is selected\n",
    "auth.project_id"
   ]
  },
  {
   "cell_type": "markdown",
   "id": "9f233cd1-adb3-40f5-8860-529dede9690e",
   "metadata": {},
   "source": [
    "## Exploration"
   ]
  },
  {
   "cell_type": "markdown",
   "id": "c0d8aa42-255e-4110-b602-e79494e4667b",
   "metadata": {},
   "source": [
    "We'll begin by exploring the FHIR codes for the conditions of the patients in this data set."
   ]
  },
  {
   "cell_type": "code",
   "execution_count": 5,
   "id": "99f7d2fe-1902-4b2d-bdec-6f538ea4d602",
   "metadata": {},
   "outputs": [
    {
     "data": {
      "application/vnd.jupyter.widget-view+json": {
       "model_id": "6c7c125194044b92941441bdd5bcf1d9",
       "version_major": 2,
       "version_minor": 0
      },
      "text/plain": [
       "0it [00:00, ?it/s]"
      ]
     },
     "metadata": {},
     "output_type": "display_data"
    },
    {
     "data": {
      "text/html": [
       "<div>\n",
       "<style scoped>\n",
       "    .dataframe tbody tr th:only-of-type {\n",
       "        vertical-align: middle;\n",
       "    }\n",
       "\n",
       "    .dataframe tbody tr th {\n",
       "        vertical-align: top;\n",
       "    }\n",
       "\n",
       "    .dataframe thead th {\n",
       "        text-align: right;\n",
       "    }\n",
       "</style>\n",
       "<table border=\"1\" class=\"dataframe\">\n",
       "  <thead>\n",
       "    <tr style=\"text-align: right;\">\n",
       "      <th></th>\n",
       "      <th>code</th>\n",
       "      <th>code_count</th>\n",
       "      <th>display</th>\n",
       "      <th>patient_count</th>\n",
       "      <th>system</th>\n",
       "    </tr>\n",
       "  </thead>\n",
       "  <tbody>\n",
       "    <tr>\n",
       "      <th>1</th>\n",
       "      <td>82711006</td>\n",
       "      <td>778</td>\n",
       "      <td>Infiltrating duct carcinoma, NOS</td>\n",
       "      <td>778</td>\n",
       "      <td>http://snomed.info/sct</td>\n",
       "    </tr>\n",
       "    <tr>\n",
       "      <th>2</th>\n",
       "      <td>89740008</td>\n",
       "      <td>201</td>\n",
       "      <td>Lobular carcinoma, NOS</td>\n",
       "      <td>201</td>\n",
       "      <td>http://snomed.info/sct</td>\n",
       "    </tr>\n",
       "    <tr>\n",
       "      <th>3</th>\n",
       "      <td>35232005</td>\n",
       "      <td>28</td>\n",
       "      <td>Infiltrating duct and lobular carcinoma</td>\n",
       "      <td>28</td>\n",
       "      <td>http://snomed.info/sct</td>\n",
       "    </tr>\n",
       "    <tr>\n",
       "      <th>4</th>\n",
       "      <td>128700001</td>\n",
       "      <td>19</td>\n",
       "      <td>Infiltr. duct mixed with other types of carcinoma</td>\n",
       "      <td>19</td>\n",
       "      <td>http://snomed.info/sct</td>\n",
       "    </tr>\n",
       "    <tr>\n",
       "      <th>5</th>\n",
       "      <td>72495009</td>\n",
       "      <td>16</td>\n",
       "      <td>Mucinous adenocarcinoma</td>\n",
       "      <td>16</td>\n",
       "      <td>http://snomed.info/sct</td>\n",
       "    </tr>\n",
       "  </tbody>\n",
       "</table>\n",
       "</div>"
      ],
      "text/plain": [
       "        code  code_count                                            display  \\\n",
       "1   82711006         778                   Infiltrating duct carcinoma, NOS   \n",
       "2   89740008         201                             Lobular carcinoma, NOS   \n",
       "3   35232005          28            Infiltrating duct and lobular carcinoma   \n",
       "4  128700001          19  Infiltr. duct mixed with other types of carcinoma   \n",
       "5   72495009          16                            Mucinous adenocarcinoma   \n",
       "\n",
       "   patient_count                  system  \n",
       "1            778  http://snomed.info/sct  \n",
       "2            201  http://snomed.info/sct  \n",
       "3             28  http://snomed.info/sct  \n",
       "4             19  http://snomed.info/sct  \n",
       "5             16  http://snomed.info/sct  "
      ]
     },
     "execution_count": 5,
     "metadata": {},
     "output_type": "execute_result"
    }
   ],
   "source": [
    "carcinoma_codes = phc.Condition.get_codes(\"carcinoma\")\n",
    "carcinoma_codes.head()"
   ]
  },
  {
   "cell_type": "markdown",
   "id": "76af29d2-f080-453a-a2c2-f5467139d881",
   "metadata": {},
   "source": [
    "For this example, let's check out this first code and see if there's anything interesting in the data."
   ]
  },
  {
   "cell_type": "code",
   "execution_count": 6,
   "id": "cd7061f3-033c-4dd5-a37a-b4ebc3d54063",
   "metadata": {},
   "outputs": [
    {
     "data": {
      "application/vnd.jupyter.widget-view+json": {
       "model_id": "c3729cb6a07c40f4bacdc4865c301e6a",
       "version_major": 2,
       "version_minor": 0
      },
      "text/plain": [
       "  0%|          | 0/10000 [00:00<?, ?it/s]"
      ]
     },
     "metadata": {},
     "output_type": "display_data"
    },
    {
     "name": "stdout",
     "output_type": "stream",
     "text": [
      "Loading data frame from \"/home/jovyan/Downloads/phc/api-cache/fhir_dsl_condition_where_507f36f0.csv\"\n"
     ]
    },
    {
     "data": {
      "text/html": [
       "<div>\n",
       "<style scoped>\n",
       "    .dataframe tbody tr th:only-of-type {\n",
       "        vertical-align: middle;\n",
       "    }\n",
       "\n",
       "    .dataframe tbody tr th {\n",
       "        vertical-align: top;\n",
       "    }\n",
       "\n",
       "    .dataframe thead th {\n",
       "        text-align: right;\n",
       "    }\n",
       "</style>\n",
       "<table border=\"1\" class=\"dataframe\">\n",
       "  <thead>\n",
       "    <tr style=\"text-align: right;\">\n",
       "      <th></th>\n",
       "      <th>id</th>\n",
       "      <th>code.coding_system__snomed.info/sct__code</th>\n",
       "      <th>code.coding_system__snomed.info/sct__display</th>\n",
       "      <th>code.coding_system__snomed.info/sct__code_1</th>\n",
       "      <th>resourceType</th>\n",
       "      <th>onsetDateTime.tz</th>\n",
       "      <th>onsetDateTime.local</th>\n",
       "      <th>bodySite.coding_system__snomed.info/sct__code</th>\n",
       "      <th>bodySite.coding_system__snomed.info/sct__display</th>\n",
       "      <th>subject.reference</th>\n",
       "      <th>stage.summary_coding_system__snomed.info/sct__code</th>\n",
       "      <th>stage.summary_coding_system__snomed.info/sct__display</th>\n",
       "      <th>meta.tag_system__lifeomic.com/fhir/dataset__code</th>\n",
       "    </tr>\n",
       "  </thead>\n",
       "  <tbody>\n",
       "    <tr>\n",
       "      <th>0</th>\n",
       "      <td>002c238a-f029-4ed9-a605-02d4cdb84b8b</td>\n",
       "      <td>82711006</td>\n",
       "      <td>Infiltrating duct carcinoma, NOS</td>\n",
       "      <td>254837009</td>\n",
       "      <td>Condition</td>\n",
       "      <td>0.0</td>\n",
       "      <td>1998-01-01 00:00:00+00:00</td>\n",
       "      <td>735083009</td>\n",
       "      <td>Part of left breast</td>\n",
       "      <td>Patient/d4e7426c-9739-4585-9114-e564b13c7c02</td>\n",
       "      <td>13104003.0</td>\n",
       "      <td>Clinical stage I (finding)</td>\n",
       "      <td>34c0fb25-bbde-4eb1-87ed-dd4c7a1ac013</td>\n",
       "    </tr>\n",
       "    <tr>\n",
       "      <th>1</th>\n",
       "      <td>01523b5b-2f8d-4f1d-9055-a2cbd0b6bd5f</td>\n",
       "      <td>82711006</td>\n",
       "      <td>Infiltrating duct carcinoma, NOS</td>\n",
       "      <td>254837009</td>\n",
       "      <td>Condition</td>\n",
       "      <td>0.0</td>\n",
       "      <td>2010-01-01 00:00:00+00:00</td>\n",
       "      <td>110494001</td>\n",
       "      <td>Upper inner quadrant of right breast</td>\n",
       "      <td>Patient/cf0e7e4e-b857-4db5-9ae2-551a899f77be</td>\n",
       "      <td>50283003.0</td>\n",
       "      <td>Clinical stage III (finding)</td>\n",
       "      <td>34c0fb25-bbde-4eb1-87ed-dd4c7a1ac013</td>\n",
       "    </tr>\n",
       "    <tr>\n",
       "      <th>2</th>\n",
       "      <td>05310e42-5986-4648-8244-fa3d429cb27c</td>\n",
       "      <td>82711006</td>\n",
       "      <td>Infiltrating duct carcinoma, NOS</td>\n",
       "      <td>254837009</td>\n",
       "      <td>Condition</td>\n",
       "      <td>0.0</td>\n",
       "      <td>2008-01-01 00:00:00+00:00</td>\n",
       "      <td>110496004</td>\n",
       "      <td>Upper outer quadrant of right breast</td>\n",
       "      <td>Patient/cab38ea8-4555-413c-b81e-4621aac4ef85</td>\n",
       "      <td>13104003.0</td>\n",
       "      <td>Clinical stage I (finding)</td>\n",
       "      <td>34c0fb25-bbde-4eb1-87ed-dd4c7a1ac013</td>\n",
       "    </tr>\n",
       "    <tr>\n",
       "      <th>3</th>\n",
       "      <td>06107cca-6fbe-4f51-800d-ed4cb80f9503</td>\n",
       "      <td>82711006</td>\n",
       "      <td>Infiltrating duct carcinoma, NOS</td>\n",
       "      <td>254837009</td>\n",
       "      <td>Condition</td>\n",
       "      <td>0.0</td>\n",
       "      <td>1994-01-01 00:00:00+00:00</td>\n",
       "      <td>735083009</td>\n",
       "      <td>Part of left breast</td>\n",
       "      <td>Patient/34ab0cb8-bf19-4cbb-b4eb-3c45ee5aa60b</td>\n",
       "      <td>60333009.0</td>\n",
       "      <td>Clinical stage II (finding)</td>\n",
       "      <td>34c0fb25-bbde-4eb1-87ed-dd4c7a1ac013</td>\n",
       "    </tr>\n",
       "    <tr>\n",
       "      <th>4</th>\n",
       "      <td>0653c2de-f1ef-4a59-806f-19cb40f718e2</td>\n",
       "      <td>82711006</td>\n",
       "      <td>Infiltrating duct carcinoma, NOS</td>\n",
       "      <td>254837009</td>\n",
       "      <td>Condition</td>\n",
       "      <td>0.0</td>\n",
       "      <td>2008-01-01 00:00:00+00:00</td>\n",
       "      <td>110501003</td>\n",
       "      <td>Upper outer quadrant of left breast</td>\n",
       "      <td>Patient/1d27253f-b036-44e7-a04d-8da5bbf57419</td>\n",
       "      <td>50283003.0</td>\n",
       "      <td>Clinical stage III (finding)</td>\n",
       "      <td>34c0fb25-bbde-4eb1-87ed-dd4c7a1ac013</td>\n",
       "    </tr>\n",
       "  </tbody>\n",
       "</table>\n",
       "</div>"
      ],
      "text/plain": [
       "                                     id  \\\n",
       "0  002c238a-f029-4ed9-a605-02d4cdb84b8b   \n",
       "1  01523b5b-2f8d-4f1d-9055-a2cbd0b6bd5f   \n",
       "2  05310e42-5986-4648-8244-fa3d429cb27c   \n",
       "3  06107cca-6fbe-4f51-800d-ed4cb80f9503   \n",
       "4  0653c2de-f1ef-4a59-806f-19cb40f718e2   \n",
       "\n",
       "   code.coding_system__snomed.info/sct__code  \\\n",
       "0                                   82711006   \n",
       "1                                   82711006   \n",
       "2                                   82711006   \n",
       "3                                   82711006   \n",
       "4                                   82711006   \n",
       "\n",
       "  code.coding_system__snomed.info/sct__display  \\\n",
       "0             Infiltrating duct carcinoma, NOS   \n",
       "1             Infiltrating duct carcinoma, NOS   \n",
       "2             Infiltrating duct carcinoma, NOS   \n",
       "3             Infiltrating duct carcinoma, NOS   \n",
       "4             Infiltrating duct carcinoma, NOS   \n",
       "\n",
       "   code.coding_system__snomed.info/sct__code_1 resourceType  onsetDateTime.tz  \\\n",
       "0                                    254837009    Condition               0.0   \n",
       "1                                    254837009    Condition               0.0   \n",
       "2                                    254837009    Condition               0.0   \n",
       "3                                    254837009    Condition               0.0   \n",
       "4                                    254837009    Condition               0.0   \n",
       "\n",
       "        onsetDateTime.local  bodySite.coding_system__snomed.info/sct__code  \\\n",
       "0 1998-01-01 00:00:00+00:00                                      735083009   \n",
       "1 2010-01-01 00:00:00+00:00                                      110494001   \n",
       "2 2008-01-01 00:00:00+00:00                                      110496004   \n",
       "3 1994-01-01 00:00:00+00:00                                      735083009   \n",
       "4 2008-01-01 00:00:00+00:00                                      110501003   \n",
       "\n",
       "  bodySite.coding_system__snomed.info/sct__display  \\\n",
       "0                              Part of left breast   \n",
       "1             Upper inner quadrant of right breast   \n",
       "2             Upper outer quadrant of right breast   \n",
       "3                              Part of left breast   \n",
       "4              Upper outer quadrant of left breast   \n",
       "\n",
       "                              subject.reference  \\\n",
       "0  Patient/d4e7426c-9739-4585-9114-e564b13c7c02   \n",
       "1  Patient/cf0e7e4e-b857-4db5-9ae2-551a899f77be   \n",
       "2  Patient/cab38ea8-4555-413c-b81e-4621aac4ef85   \n",
       "3  Patient/34ab0cb8-bf19-4cbb-b4eb-3c45ee5aa60b   \n",
       "4  Patient/1d27253f-b036-44e7-a04d-8da5bbf57419   \n",
       "\n",
       "   stage.summary_coding_system__snomed.info/sct__code  \\\n",
       "0                                         13104003.0    \n",
       "1                                         50283003.0    \n",
       "2                                         13104003.0    \n",
       "3                                         60333009.0    \n",
       "4                                         50283003.0    \n",
       "\n",
       "  stage.summary_coding_system__snomed.info/sct__display  \\\n",
       "0                         Clinical stage I (finding)      \n",
       "1                       Clinical stage III (finding)      \n",
       "2                         Clinical stage I (finding)      \n",
       "3                        Clinical stage II (finding)      \n",
       "4                       Clinical stage III (finding)      \n",
       "\n",
       "  meta.tag_system__lifeomic.com/fhir/dataset__code  \n",
       "0             34c0fb25-bbde-4eb1-87ed-dd4c7a1ac013  \n",
       "1             34c0fb25-bbde-4eb1-87ed-dd4c7a1ac013  \n",
       "2             34c0fb25-bbde-4eb1-87ed-dd4c7a1ac013  \n",
       "3             34c0fb25-bbde-4eb1-87ed-dd4c7a1ac013  \n",
       "4             34c0fb25-bbde-4eb1-87ed-dd4c7a1ac013  "
      ]
     },
     "execution_count": 6,
     "metadata": {},
     "output_type": "execute_result"
    }
   ],
   "source": [
    "condition_initial_df = phc.Condition.get_data_frame(\n",
    "    display=\"Infiltrating duct carcinoma, NOS\",\n",
    "    all_results=True\n",
    ")\n",
    "\n",
    "condition_initial_df.head()"
   ]
  },
  {
   "cell_type": "markdown",
   "id": "48264294-12a9-4c59-b4f3-7775ed3e39a0",
   "metadata": {},
   "source": [
    "It looks there are various recorded stages of infiltrating duct carcinoma in the dataset. Keep in mind that records are timestamp based so we can easily have a person with multiple recorded stages as the disease progresses."
   ]
  },
  {
   "cell_type": "code",
   "execution_count": 7,
   "id": "36c5cf39-4fa6-486f-b283-67d5f0d68fb4",
   "metadata": {},
   "outputs": [
    {
     "data": {
      "text/plain": [
       "Clinical stage II (finding)     450\n",
       "Clinical stage III (finding)    154\n",
       "Clinical stage I (finding)      140\n",
       "Clinical stage IV (finding)      16\n",
       "Name: stage.summary_coding_system__snomed.info/sct__display, dtype: int64"
      ]
     },
     "execution_count": 7,
     "metadata": {},
     "output_type": "execute_result"
    }
   ],
   "source": [
    "condition_initial_df[\"stage.summary_coding_system__snomed.info/sct__display\"].value_counts()"
   ]
  },
  {
   "cell_type": "markdown",
   "id": "bc271f11-d6e1-4eca-820b-4fd636afe71a",
   "metadata": {},
   "source": [
    "From here, we can simplify the data frame and focus on the final recorded stage for each patient."
   ]
  },
  {
   "cell_type": "code",
   "execution_count": 8,
   "id": "7ccfc0fb-6348-4ccc-80af-31e76153bc83",
   "metadata": {},
   "outputs": [
    {
     "data": {
      "text/html": [
       "<div>\n",
       "<style scoped>\n",
       "    .dataframe tbody tr th:only-of-type {\n",
       "        vertical-align: middle;\n",
       "    }\n",
       "\n",
       "    .dataframe tbody tr th {\n",
       "        vertical-align: top;\n",
       "    }\n",
       "\n",
       "    .dataframe thead th {\n",
       "        text-align: right;\n",
       "    }\n",
       "</style>\n",
       "<table border=\"1\" class=\"dataframe\">\n",
       "  <thead>\n",
       "    <tr style=\"text-align: right;\">\n",
       "      <th></th>\n",
       "      <th>date</th>\n",
       "      <th>stage</th>\n",
       "    </tr>\n",
       "    <tr>\n",
       "      <th>patient_id</th>\n",
       "      <th></th>\n",
       "      <th></th>\n",
       "    </tr>\n",
       "  </thead>\n",
       "  <tbody>\n",
       "    <tr>\n",
       "      <th>001cef41-ff86-4d3f-a140-a647ac4b10a1</th>\n",
       "      <td>2010-01-01</td>\n",
       "      <td>Clinical stage I (finding)</td>\n",
       "    </tr>\n",
       "    <tr>\n",
       "      <th>00a2d166-78c9-4687-a195-3d6315c27574</th>\n",
       "      <td>2010-01-01</td>\n",
       "      <td>Clinical stage II (finding)</td>\n",
       "    </tr>\n",
       "    <tr>\n",
       "      <th>01263518-5f7c-49dc-8d7e-84b0c03a6a63</th>\n",
       "      <td>2009-01-01</td>\n",
       "      <td>Clinical stage IV (finding)</td>\n",
       "    </tr>\n",
       "    <tr>\n",
       "      <th>0130d616-885e-4a6c-9d03-2f17dd692a05</th>\n",
       "      <td>2010-01-01</td>\n",
       "      <td>Clinical stage II (finding)</td>\n",
       "    </tr>\n",
       "    <tr>\n",
       "      <th>01674b2c-5cf2-478f-84a1-f69c39f47bd4</th>\n",
       "      <td>2009-01-01</td>\n",
       "      <td>Clinical stage II (finding)</td>\n",
       "    </tr>\n",
       "  </tbody>\n",
       "</table>\n",
       "</div>"
      ],
      "text/plain": [
       "                                            date                        stage\n",
       "patient_id                                                                   \n",
       "001cef41-ff86-4d3f-a140-a647ac4b10a1  2010-01-01   Clinical stage I (finding)\n",
       "00a2d166-78c9-4687-a195-3d6315c27574  2010-01-01  Clinical stage II (finding)\n",
       "01263518-5f7c-49dc-8d7e-84b0c03a6a63  2009-01-01  Clinical stage IV (finding)\n",
       "0130d616-885e-4a6c-9d03-2f17dd692a05  2010-01-01  Clinical stage II (finding)\n",
       "01674b2c-5cf2-478f-84a1-f69c39f47bd4  2009-01-01  Clinical stage II (finding)"
      ]
     },
     "execution_count": 8,
     "metadata": {},
     "output_type": "execute_result"
    }
   ],
   "source": [
    "stage_df = (\n",
    "    condition_initial_df\n",
    "    # Make these columns a little less verbose\n",
    "    .rename(columns={\n",
    "        \"stage.summary_coding_system__snomed.info/sct__display\": \"stage\",\n",
    "        \"subject.reference\": \"patient_id\",\n",
    "        \"onsetDateTime.local\": \"date\"\n",
    "    })\n",
    "    # Pipe allows us to do an arbitrary transform and the result will be passed\n",
    "    # to the next transform\n",
    "    .pipe(\n",
    "        # Assign allows assigned/re-assigning columns to the frame immutably\n",
    "        lambda df: df.assign(\n",
    "            # Replace prefix indicating resource since this references patient\n",
    "            patient_id=df[\"patient_id\"].str.replace(\"Patient/\", \"\"),\n",
    "            # Convert onset to date since time data does not exist\n",
    "            date=df[\"date\"].dt.date,\n",
    "            stage=df[\"stage\"].astype(\n",
    "                CategoricalDtype(categories=[\n",
    "                    'Clinical stage I (finding)',\n",
    "                    'Clinical stage II (finding)',\n",
    "                    'Clinical stage III (finding)',\n",
    "                    'Clinical stage IV (finding)'\n",
    "                ], ordered=True)\n",
    "            )\n",
    "        )\n",
    "    )\n",
    "    # Narrow frame down to two columns\n",
    "    [[\"patient_id\", \"date\", \"stage\"]]\n",
    "    # Get the latest record by date\n",
    "    .sort_values(\"date\", ascending=False).groupby(\"patient_id\").first()\n",
    "    # Ensure stage value exists\n",
    "    .pipe(\n",
    "        lambda df: df[df[\"stage\"].notnull()]\n",
    "    )\n",
    ")\n",
    "\n",
    "stage_df.head()"
   ]
  },
  {
   "cell_type": "markdown",
   "id": "ed978c87-704a-40d8-aa02-9d0d999e5831",
   "metadata": {},
   "source": [
    "Because we have decent number of these records (760), let's use this as the target feature for a predictive model. We'll assemble a list of some example features across Patient and Observation, and employ a simple Random Forest classifier as the predictive model."
   ]
  },
  {
   "cell_type": "markdown",
   "id": "a6b6852d-cff7-4c88-94c5-dc9facb94726",
   "metadata": {},
   "source": [
    "## Developing Predictive Features"
   ]
  },
  {
   "cell_type": "markdown",
   "id": "9efcdc6f-cf7c-4c2c-995f-180ad81d3210",
   "metadata": {},
   "source": [
    "Moving on from these disease stage records, let's grab the Patient data to and make sure these Condition records are actually associated with patients."
   ]
  },
  {
   "cell_type": "code",
   "execution_count": 9,
   "id": "be321ddd-745c-4763-8a55-2006f9b0a1a2",
   "metadata": {},
   "outputs": [
    {
     "data": {
      "application/vnd.jupyter.widget-view+json": {
       "model_id": "7debad5e89d84481ba10a75780613db5",
       "version_major": 2,
       "version_minor": 0
      },
      "text/plain": [
       "  0%|          | 0/10000 [00:00<?, ?it/s]"
      ]
     },
     "metadata": {},
     "output_type": "display_data"
    },
    {
     "name": "stdout",
     "output_type": "stream",
     "text": [
      "Loading data frame from \"/home/jovyan/Downloads/phc/api-cache/fhir_dsl_patient_where_609c8da8.csv\"\n"
     ]
    },
    {
     "data": {
      "text/html": [
       "<div>\n",
       "<style scoped>\n",
       "    .dataframe tbody tr th:only-of-type {\n",
       "        vertical-align: middle;\n",
       "    }\n",
       "\n",
       "    .dataframe tbody tr th {\n",
       "        vertical-align: top;\n",
       "    }\n",
       "\n",
       "    .dataframe thead th {\n",
       "        text-align: right;\n",
       "    }\n",
       "</style>\n",
       "<table border=\"1\" class=\"dataframe\">\n",
       "  <thead>\n",
       "    <tr style=\"text-align: right;\">\n",
       "      <th></th>\n",
       "      <th>id</th>\n",
       "      <th>name_given_0</th>\n",
       "      <th>name_family</th>\n",
       "      <th>extension.url__hl7.org/fhir/StructureDefinition/us-core-race__valueCodeableConcept_text</th>\n",
       "      <th>extension.url__hl7.org/fhir/StructureDefinition/us-core-race__valueCodeableConcept_coding_system__hl7.org/fhir/v3/Race__code</th>\n",
       "      <th>extension.url__hl7.org/fhir/StructureDefinition/us-core-race__valueCodeableConcept_coding_system__hl7.org/fhir/v3/Race__display</th>\n",
       "      <th>extension.url__hl7.org/fhir/StructureDefinition/us-core-ethnicity__valueCodeableConcept_text</th>\n",
       "      <th>extension.url__hl7.org/fhir/StructureDefinition/us-core-ethnicity__valueCodeableConcept_coding_system__hl7.org/fhir/v3/Ethnicity__code</th>\n",
       "      <th>extension.url__hl7.org/fhir/StructureDefinition/us-core-ethnicity__valueCodeableConcept_coding_system__hl7.org/fhir/v3/Ethnicity__display</th>\n",
       "      <th>resourceType</th>\n",
       "      <th>gender</th>\n",
       "      <th>birthDate.tz</th>\n",
       "      <th>birthDate.local</th>\n",
       "      <th>deceasedBoolean</th>\n",
       "      <th>identifier.type_coding_system__hl7.org/fhir/v2/0203__code</th>\n",
       "      <th>identifier.type_coding_system__hl7.org/fhir/v2/0203__value</th>\n",
       "      <th>meta.tag_system__lifeomic.com/fhir/dataset__code</th>\n",
       "      <th>meta.tag_lastUpdated.tz</th>\n",
       "      <th>meta.tag_lastUpdated.local</th>\n",
       "      <th>address_country</th>\n",
       "      <th>address_use</th>\n",
       "      <th>address_type</th>\n",
       "      <th>deceasedDateTime.tz</th>\n",
       "      <th>deceasedDateTime.local</th>\n",
       "    </tr>\n",
       "  </thead>\n",
       "  <tbody>\n",
       "    <tr>\n",
       "      <th>0</th>\n",
       "      <td>1f8f87cb-8a0b-474c-97fb-c71b4fd88d97</td>\n",
       "      <td>AOA1KT</td>\n",
       "      <td>LO</td>\n",
       "      <td>race</td>\n",
       "      <td>2106-3</td>\n",
       "      <td>white</td>\n",
       "      <td>ethnicity</td>\n",
       "      <td>2186-5</td>\n",
       "      <td>not hispanic or latino</td>\n",
       "      <td>Patient</td>\n",
       "      <td>female</td>\n",
       "      <td>0.0</td>\n",
       "      <td>1930-07-15 00:00:00+00:00</td>\n",
       "      <td>False</td>\n",
       "      <td>ANON</td>\n",
       "      <td>LO-AO-A1KT</td>\n",
       "      <td>34c0fb25-bbde-4eb1-87ed-dd4c7a1ac013</td>\n",
       "      <td>0.0</td>\n",
       "      <td>2020-06-18 17:30:57+00:00</td>\n",
       "      <td>united states</td>\n",
       "      <td>home</td>\n",
       "      <td>physical</td>\n",
       "      <td>NaN</td>\n",
       "      <td>NaT</td>\n",
       "    </tr>\n",
       "    <tr>\n",
       "      <th>1</th>\n",
       "      <td>21ef1730-e5a7-47ce-b419-d000bb59ae15</td>\n",
       "      <td>BHA1F0</td>\n",
       "      <td>LO</td>\n",
       "      <td>race</td>\n",
       "      <td>2106-3</td>\n",
       "      <td>white</td>\n",
       "      <td>ethnicity</td>\n",
       "      <td>2186-5</td>\n",
       "      <td>not hispanic or latino</td>\n",
       "      <td>Patient</td>\n",
       "      <td>female</td>\n",
       "      <td>0.0</td>\n",
       "      <td>1919-09-08 00:00:00+00:00</td>\n",
       "      <td>NaN</td>\n",
       "      <td>ANON</td>\n",
       "      <td>LO-BH-A1F0</td>\n",
       "      <td>34c0fb25-bbde-4eb1-87ed-dd4c7a1ac013</td>\n",
       "      <td>0.0</td>\n",
       "      <td>2020-06-18 17:30:57+00:00</td>\n",
       "      <td>NaN</td>\n",
       "      <td>NaN</td>\n",
       "      <td>NaN</td>\n",
       "      <td>0.0</td>\n",
       "      <td>2002-02-24 00:00:00+00:00</td>\n",
       "    </tr>\n",
       "    <tr>\n",
       "      <th>2</th>\n",
       "      <td>23dabeef-8e3c-44bc-9a12-a9522d17be5c</td>\n",
       "      <td>A8A076</td>\n",
       "      <td>LO</td>\n",
       "      <td>NaN</td>\n",
       "      <td>NaN</td>\n",
       "      <td>NaN</td>\n",
       "      <td>NaN</td>\n",
       "      <td>NaN</td>\n",
       "      <td>NaN</td>\n",
       "      <td>Patient</td>\n",
       "      <td>female</td>\n",
       "      <td>0.0</td>\n",
       "      <td>1939-08-31 00:00:00+00:00</td>\n",
       "      <td>False</td>\n",
       "      <td>ANON</td>\n",
       "      <td>LO-A8-A076</td>\n",
       "      <td>34c0fb25-bbde-4eb1-87ed-dd4c7a1ac013</td>\n",
       "      <td>0.0</td>\n",
       "      <td>2020-06-18 17:30:57+00:00</td>\n",
       "      <td>germany</td>\n",
       "      <td>home</td>\n",
       "      <td>physical</td>\n",
       "      <td>NaN</td>\n",
       "      <td>NaT</td>\n",
       "    </tr>\n",
       "    <tr>\n",
       "      <th>3</th>\n",
       "      <td>26573441-eedb-4364-966c-e7f803deef19</td>\n",
       "      <td>BHA0BO</td>\n",
       "      <td>LO</td>\n",
       "      <td>race</td>\n",
       "      <td>2106-3</td>\n",
       "      <td>white</td>\n",
       "      <td>ethnicity</td>\n",
       "      <td>2186-5</td>\n",
       "      <td>not hispanic or latino</td>\n",
       "      <td>Patient</td>\n",
       "      <td>female</td>\n",
       "      <td>0.0</td>\n",
       "      <td>1952-11-18 00:00:00+00:00</td>\n",
       "      <td>False</td>\n",
       "      <td>ANON</td>\n",
       "      <td>LO-BH-A0BO</td>\n",
       "      <td>34c0fb25-bbde-4eb1-87ed-dd4c7a1ac013</td>\n",
       "      <td>0.0</td>\n",
       "      <td>2020-06-18 17:30:57+00:00</td>\n",
       "      <td>NaN</td>\n",
       "      <td>NaN</td>\n",
       "      <td>NaN</td>\n",
       "      <td>NaN</td>\n",
       "      <td>NaT</td>\n",
       "    </tr>\n",
       "    <tr>\n",
       "      <th>4</th>\n",
       "      <td>27dfb9d4-3a2c-44bc-9acf-8f638d3f3004</td>\n",
       "      <td>BHA0GZ</td>\n",
       "      <td>LO</td>\n",
       "      <td>race</td>\n",
       "      <td>2106-3</td>\n",
       "      <td>white</td>\n",
       "      <td>NaN</td>\n",
       "      <td>NaN</td>\n",
       "      <td>NaN</td>\n",
       "      <td>Patient</td>\n",
       "      <td>female</td>\n",
       "      <td>0.0</td>\n",
       "      <td>1946-10-25 00:00:00+00:00</td>\n",
       "      <td>False</td>\n",
       "      <td>ANON</td>\n",
       "      <td>LO-BH-A0GZ</td>\n",
       "      <td>34c0fb25-bbde-4eb1-87ed-dd4c7a1ac013</td>\n",
       "      <td>0.0</td>\n",
       "      <td>2020-06-18 17:30:57+00:00</td>\n",
       "      <td>NaN</td>\n",
       "      <td>NaN</td>\n",
       "      <td>NaN</td>\n",
       "      <td>NaN</td>\n",
       "      <td>NaT</td>\n",
       "    </tr>\n",
       "  </tbody>\n",
       "</table>\n",
       "</div>"
      ],
      "text/plain": [
       "                                     id name_given_0 name_family  \\\n",
       "0  1f8f87cb-8a0b-474c-97fb-c71b4fd88d97       AOA1KT          LO   \n",
       "1  21ef1730-e5a7-47ce-b419-d000bb59ae15       BHA1F0          LO   \n",
       "2  23dabeef-8e3c-44bc-9a12-a9522d17be5c       A8A076          LO   \n",
       "3  26573441-eedb-4364-966c-e7f803deef19       BHA0BO          LO   \n",
       "4  27dfb9d4-3a2c-44bc-9acf-8f638d3f3004       BHA0GZ          LO   \n",
       "\n",
       "  extension.url__hl7.org/fhir/StructureDefinition/us-core-race__valueCodeableConcept_text  \\\n",
       "0                                               race                                        \n",
       "1                                               race                                        \n",
       "2                                                NaN                                        \n",
       "3                                               race                                        \n",
       "4                                               race                                        \n",
       "\n",
       "  extension.url__hl7.org/fhir/StructureDefinition/us-core-race__valueCodeableConcept_coding_system__hl7.org/fhir/v3/Race__code  \\\n",
       "0                                             2106-3                                                                             \n",
       "1                                             2106-3                                                                             \n",
       "2                                                NaN                                                                             \n",
       "3                                             2106-3                                                                             \n",
       "4                                             2106-3                                                                             \n",
       "\n",
       "  extension.url__hl7.org/fhir/StructureDefinition/us-core-race__valueCodeableConcept_coding_system__hl7.org/fhir/v3/Race__display  \\\n",
       "0                                              white                                                                                \n",
       "1                                              white                                                                                \n",
       "2                                                NaN                                                                                \n",
       "3                                              white                                                                                \n",
       "4                                              white                                                                                \n",
       "\n",
       "  extension.url__hl7.org/fhir/StructureDefinition/us-core-ethnicity__valueCodeableConcept_text  \\\n",
       "0                                          ethnicity                                             \n",
       "1                                          ethnicity                                             \n",
       "2                                                NaN                                             \n",
       "3                                          ethnicity                                             \n",
       "4                                                NaN                                             \n",
       "\n",
       "  extension.url__hl7.org/fhir/StructureDefinition/us-core-ethnicity__valueCodeableConcept_coding_system__hl7.org/fhir/v3/Ethnicity__code  \\\n",
       "0                                             2186-5                                                                                       \n",
       "1                                             2186-5                                                                                       \n",
       "2                                                NaN                                                                                       \n",
       "3                                             2186-5                                                                                       \n",
       "4                                                NaN                                                                                       \n",
       "\n",
       "  extension.url__hl7.org/fhir/StructureDefinition/us-core-ethnicity__valueCodeableConcept_coding_system__hl7.org/fhir/v3/Ethnicity__display  \\\n",
       "0                             not hispanic or latino                                                                                          \n",
       "1                             not hispanic or latino                                                                                          \n",
       "2                                                NaN                                                                                          \n",
       "3                             not hispanic or latino                                                                                          \n",
       "4                                                NaN                                                                                          \n",
       "\n",
       "  resourceType  gender  birthDate.tz           birthDate.local  \\\n",
       "0      Patient  female           0.0 1930-07-15 00:00:00+00:00   \n",
       "1      Patient  female           0.0 1919-09-08 00:00:00+00:00   \n",
       "2      Patient  female           0.0 1939-08-31 00:00:00+00:00   \n",
       "3      Patient  female           0.0 1952-11-18 00:00:00+00:00   \n",
       "4      Patient  female           0.0 1946-10-25 00:00:00+00:00   \n",
       "\n",
       "  deceasedBoolean identifier.type_coding_system__hl7.org/fhir/v2/0203__code  \\\n",
       "0           False                                               ANON          \n",
       "1             NaN                                               ANON          \n",
       "2           False                                               ANON          \n",
       "3           False                                               ANON          \n",
       "4           False                                               ANON          \n",
       "\n",
       "  identifier.type_coding_system__hl7.org/fhir/v2/0203__value  \\\n",
       "0                                         LO-AO-A1KT           \n",
       "1                                         LO-BH-A1F0           \n",
       "2                                         LO-A8-A076           \n",
       "3                                         LO-BH-A0BO           \n",
       "4                                         LO-BH-A0GZ           \n",
       "\n",
       "  meta.tag_system__lifeomic.com/fhir/dataset__code  meta.tag_lastUpdated.tz  \\\n",
       "0             34c0fb25-bbde-4eb1-87ed-dd4c7a1ac013                      0.0   \n",
       "1             34c0fb25-bbde-4eb1-87ed-dd4c7a1ac013                      0.0   \n",
       "2             34c0fb25-bbde-4eb1-87ed-dd4c7a1ac013                      0.0   \n",
       "3             34c0fb25-bbde-4eb1-87ed-dd4c7a1ac013                      0.0   \n",
       "4             34c0fb25-bbde-4eb1-87ed-dd4c7a1ac013                      0.0   \n",
       "\n",
       "  meta.tag_lastUpdated.local address_country address_use address_type  \\\n",
       "0  2020-06-18 17:30:57+00:00   united states        home     physical   \n",
       "1  2020-06-18 17:30:57+00:00             NaN         NaN          NaN   \n",
       "2  2020-06-18 17:30:57+00:00         germany        home     physical   \n",
       "3  2020-06-18 17:30:57+00:00             NaN         NaN          NaN   \n",
       "4  2020-06-18 17:30:57+00:00             NaN         NaN          NaN   \n",
       "\n",
       "   deceasedDateTime.tz    deceasedDateTime.local  \n",
       "0                  NaN                       NaT  \n",
       "1                  0.0 2002-02-24 00:00:00+00:00  \n",
       "2                  NaN                       NaT  \n",
       "3                  NaN                       NaT  \n",
       "4                  NaN                       NaT  "
      ]
     },
     "execution_count": 9,
     "metadata": {},
     "output_type": "execute_result"
    }
   ],
   "source": [
    "patient_intial_df = phc.Patient.get_data_frame(\n",
    "    ids=stage_df.index,\n",
    "    all_results=True\n",
    ")\n",
    "\n",
    "patient_intial_df.head()"
   ]
  },
  {
   "cell_type": "markdown",
   "id": "37917759-fc6f-4153-b913-0940089d8964",
   "metadata": {},
   "source": [
    "The Patient record in this project looks somewhat interesting, but it doesn't look like there will be much very valuable for predictions--except perhaps race and age. Printing the number of non-null records can assist in examining these fields."
   ]
  },
  {
   "cell_type": "code",
   "execution_count": 10,
   "id": "495c542a-54ab-43ae-8d10-261748612c2f",
   "metadata": {},
   "outputs": [
    {
     "name": "stdout",
     "output_type": "stream",
     "text": [
      "<class 'pandas.core.frame.DataFrame'>\n",
      "RangeIndex: 760 entries, 0 to 759\n",
      "Data columns (total 24 columns):\n",
      " #   Column                                                                                                                                     Non-Null Count  Dtype              \n",
      "---  ------                                                                                                                                     --------------  -----              \n",
      " 0   id                                                                                                                                         760 non-null    object             \n",
      " 1   name_given_0                                                                                                                               760 non-null    object             \n",
      " 2   name_family                                                                                                                                760 non-null    object             \n",
      " 3   extension.url__hl7.org/fhir/StructureDefinition/us-core-race__valueCodeableConcept_text                                                    689 non-null    object             \n",
      " 4   extension.url__hl7.org/fhir/StructureDefinition/us-core-race__valueCodeableConcept_coding_system__hl7.org/fhir/v3/Race__code               689 non-null    object             \n",
      " 5   extension.url__hl7.org/fhir/StructureDefinition/us-core-race__valueCodeableConcept_coding_system__hl7.org/fhir/v3/Race__display            689 non-null    object             \n",
      " 6   extension.url__hl7.org/fhir/StructureDefinition/us-core-ethnicity__valueCodeableConcept_text                                               619 non-null    object             \n",
      " 7   extension.url__hl7.org/fhir/StructureDefinition/us-core-ethnicity__valueCodeableConcept_coding_system__hl7.org/fhir/v3/Ethnicity__code     619 non-null    object             \n",
      " 8   extension.url__hl7.org/fhir/StructureDefinition/us-core-ethnicity__valueCodeableConcept_coding_system__hl7.org/fhir/v3/Ethnicity__display  619 non-null    object             \n",
      " 9   resourceType                                                                                                                               760 non-null    object             \n",
      " 10  gender                                                                                                                                     760 non-null    object             \n",
      " 11  birthDate.tz                                                                                                                               750 non-null    float64            \n",
      " 12  birthDate.local                                                                                                                            750 non-null    datetime64[ns, UTC]\n",
      " 13  deceasedBoolean                                                                                                                            663 non-null    object             \n",
      " 14  identifier.type_coding_system__hl7.org/fhir/v2/0203__code                                                                                  760 non-null    object             \n",
      " 15  identifier.type_coding_system__hl7.org/fhir/v2/0203__value                                                                                 760 non-null    object             \n",
      " 16  meta.tag_system__lifeomic.com/fhir/dataset__code                                                                                           760 non-null    object             \n",
      " 17  meta.tag_lastUpdated.tz                                                                                                                    760 non-null    float64            \n",
      " 18  meta.tag_lastUpdated.local                                                                                                                 760 non-null    datetime64[ns, UTC]\n",
      " 19  address_country                                                                                                                            424 non-null    object             \n",
      " 20  address_use                                                                                                                                424 non-null    object             \n",
      " 21  address_type                                                                                                                               424 non-null    object             \n",
      " 22  deceasedDateTime.tz                                                                                                                        97 non-null     float64            \n",
      " 23  deceasedDateTime.local                                                                                                                     97 non-null     datetime64[ns, UTC]\n",
      "dtypes: datetime64[ns, UTC](3), float64(3), object(18)\n",
      "memory usage: 142.6+ KB\n"
     ]
    }
   ],
   "source": [
    "patient_intial_df.info()"
   ]
  },
  {
   "cell_type": "markdown",
   "id": "b2cba9e4-15a8-4d71-86bd-26d87bfa0aca",
   "metadata": {},
   "source": [
    "Let's check out the values in the `race` column."
   ]
  },
  {
   "cell_type": "code",
   "execution_count": 11,
   "id": "7607c75b-18bd-4333-a4c9-bc65fe80fe07",
   "metadata": {},
   "outputs": [
    {
     "data": {
      "text/plain": [
       "white                               494\n",
       "black or african american           147\n",
       "unknown                              71\n",
       "asian                                47\n",
       "american indian or alaska native      1\n",
       "Name: race, dtype: int64"
      ]
     },
     "execution_count": 11,
     "metadata": {},
     "output_type": "execute_result"
    }
   ],
   "source": [
    "patient_df = (\n",
    "    patient_intial_df\n",
    "    .rename(columns={\n",
    "        \"extension.url__hl7.org/fhir/StructureDefinition/us-core-race__valueCodeableConcept_coding_system__hl7.org/fhir/v3/Race__display\": \"race\",\n",
    "        \"birthDate.local\": \"birthYear\"\n",
    "    })\n",
    "    .pipe(\n",
    "        lambda df: df.assign(\n",
    "            # Fill missing with new category\n",
    "            race=df[\"race\"].fillna(\"unknown\"),\n",
    "            # Simplify potential feature just to birth year\n",
    "            birthYear=df[\"birthYear\"].dt.year\n",
    "        )\n",
    "    )\n",
    ")\n",
    "\n",
    "patient_df.race.value_counts()"
   ]
  },
  {
   "cell_type": "code",
   "execution_count": 12,
   "id": "a195603d-63cb-47aa-943b-88dcf0b82964",
   "metadata": {},
   "outputs": [],
   "source": [
    "# Make sure we have a patient for each stage\n",
    "# (Data is messy!)\n",
    "assert (patient_df.id.sort_values() == stage_df.sort_index().index).all()"
   ]
  },
  {
   "cell_type": "markdown",
   "id": "580dfd8b-90d4-4bb9-9571-338807912c84",
   "metadata": {},
   "source": [
    "We may be able to use the `race` column since it exists in ~90% of the patients. However, we really need to examine the Observation records for each Patient to see if there might be some interesting features."
   ]
  },
  {
   "cell_type": "code",
   "execution_count": 13,
   "id": "6b8bbd21-cccb-4da7-b7bb-900f969b6913",
   "metadata": {},
   "outputs": [
    {
     "data": {
      "application/vnd.jupyter.widget-view+json": {
       "model_id": "5643fdb005ed488bbf58c9c366313c7a",
       "version_major": 2,
       "version_minor": 0
      },
      "text/plain": [
       "  0%|          | 0/10000 [00:00<?, ?it/s]"
      ]
     },
     "metadata": {},
     "output_type": "display_data"
    },
    {
     "name": "stdout",
     "output_type": "stream",
     "text": [
      "Loading data frame from \"/home/jovyan/Downloads/phc/api-cache/fhir_dsl_observation_where_a18c4d57.csv\"\n"
     ]
    },
    {
     "data": {
      "text/html": [
       "<div>\n",
       "<style scoped>\n",
       "    .dataframe tbody tr th:only-of-type {\n",
       "        vertical-align: middle;\n",
       "    }\n",
       "\n",
       "    .dataframe tbody tr th {\n",
       "        vertical-align: top;\n",
       "    }\n",
       "\n",
       "    .dataframe thead th {\n",
       "        text-align: right;\n",
       "    }\n",
       "</style>\n",
       "<table border=\"1\" class=\"dataframe\">\n",
       "  <thead>\n",
       "    <tr style=\"text-align: right;\">\n",
       "      <th></th>\n",
       "      <th>id</th>\n",
       "      <th>status</th>\n",
       "      <th>code.coding_system__loinc.org__code</th>\n",
       "      <th>code.coding_system__loinc.org__display</th>\n",
       "      <th>resourceType</th>\n",
       "      <th>valueQuantity.value</th>\n",
       "      <th>effectiveDateTime.tz</th>\n",
       "      <th>effectiveDateTime.local</th>\n",
       "      <th>subject.reference</th>\n",
       "      <th>meta.tag_system__lifeomic.com/fhir/dataset__code</th>\n",
       "      <th>meta.tag_lastUpdated.tz</th>\n",
       "      <th>meta.tag_lastUpdated.local</th>\n",
       "      <th>valueDateTime</th>\n",
       "      <th>valueString</th>\n",
       "    </tr>\n",
       "  </thead>\n",
       "  <tbody>\n",
       "    <tr>\n",
       "      <th>0</th>\n",
       "      <td>3266d935-59e6-4a14-bcdd-fbccbb6560a8</td>\n",
       "      <td>final</td>\n",
       "      <td>21893-3</td>\n",
       "      <td>Regional lymph nodes positive [#] Specimen</td>\n",
       "      <td>Observation</td>\n",
       "      <td>27.0</td>\n",
       "      <td>0.0</td>\n",
       "      <td>2008-01-01 00:00:00+00:00</td>\n",
       "      <td>Patient/7317e605-93ba-49a9-8743-20613b02767a</td>\n",
       "      <td>34c0fb25-bbde-4eb1-87ed-dd4c7a1ac013</td>\n",
       "      <td>NaN</td>\n",
       "      <td>NaT</td>\n",
       "      <td>NaN</td>\n",
       "      <td>NaN</td>\n",
       "    </tr>\n",
       "    <tr>\n",
       "      <th>1</th>\n",
       "      <td>3271192b-7ef3-45bf-a08a-aa85fa82b44e</td>\n",
       "      <td>NaN</td>\n",
       "      <td>63931-0</td>\n",
       "      <td>Date of Diagnosis</td>\n",
       "      <td>Observation</td>\n",
       "      <td>NaN</td>\n",
       "      <td>0.0</td>\n",
       "      <td>2008-01-01 00:00:00+00:00</td>\n",
       "      <td>Patient/09c2bc35-c21f-4aa4-ac30-0d8db02ad811</td>\n",
       "      <td>34c0fb25-bbde-4eb1-87ed-dd4c7a1ac013</td>\n",
       "      <td>0.0</td>\n",
       "      <td>2020-06-19 13:54:58+00:00</td>\n",
       "      <td>2008-01-01</td>\n",
       "      <td>NaN</td>\n",
       "    </tr>\n",
       "    <tr>\n",
       "      <th>2</th>\n",
       "      <td>32b47326-8bae-4ad1-b5cd-0b15eba5cefc</td>\n",
       "      <td>final</td>\n",
       "      <td>85339-0</td>\n",
       "      <td>Progesterone Receptor Status</td>\n",
       "      <td>Observation</td>\n",
       "      <td>NaN</td>\n",
       "      <td>0.0</td>\n",
       "      <td>2011-01-01 00:00:00+00:00</td>\n",
       "      <td>Patient/d9dc3b59-613d-469e-8b4f-6c5a557eb26a</td>\n",
       "      <td>34c0fb25-bbde-4eb1-87ed-dd4c7a1ac013</td>\n",
       "      <td>NaN</td>\n",
       "      <td>NaT</td>\n",
       "      <td>NaN</td>\n",
       "      <td>negative</td>\n",
       "    </tr>\n",
       "    <tr>\n",
       "      <th>3</th>\n",
       "      <td>331a6649-1bb8-45d3-b35e-1ce9dad8a591</td>\n",
       "      <td>final</td>\n",
       "      <td>85339-0</td>\n",
       "      <td>Progesterone Receptor Status</td>\n",
       "      <td>Observation</td>\n",
       "      <td>NaN</td>\n",
       "      <td>0.0</td>\n",
       "      <td>2003-01-01 00:00:00+00:00</td>\n",
       "      <td>Patient/fe15c48b-116d-461e-9b40-68514730fd18</td>\n",
       "      <td>34c0fb25-bbde-4eb1-87ed-dd4c7a1ac013</td>\n",
       "      <td>NaN</td>\n",
       "      <td>NaT</td>\n",
       "      <td>NaN</td>\n",
       "      <td>positive</td>\n",
       "    </tr>\n",
       "    <tr>\n",
       "      <th>4</th>\n",
       "      <td>33fd19d9-0824-48bf-a73a-841a5c2f7296</td>\n",
       "      <td>final</td>\n",
       "      <td>21893-3</td>\n",
       "      <td>Regional lymph nodes positive [#] Specimen</td>\n",
       "      <td>Observation</td>\n",
       "      <td>0.0</td>\n",
       "      <td>0.0</td>\n",
       "      <td>2004-01-01 00:00:00+00:00</td>\n",
       "      <td>Patient/56bbd282-b88d-4730-9242-ab97d08dc83a</td>\n",
       "      <td>34c0fb25-bbde-4eb1-87ed-dd4c7a1ac013</td>\n",
       "      <td>NaN</td>\n",
       "      <td>NaT</td>\n",
       "      <td>NaN</td>\n",
       "      <td>NaN</td>\n",
       "    </tr>\n",
       "  </tbody>\n",
       "</table>\n",
       "</div>"
      ],
      "text/plain": [
       "                                     id status  \\\n",
       "0  3266d935-59e6-4a14-bcdd-fbccbb6560a8  final   \n",
       "1  3271192b-7ef3-45bf-a08a-aa85fa82b44e    NaN   \n",
       "2  32b47326-8bae-4ad1-b5cd-0b15eba5cefc  final   \n",
       "3  331a6649-1bb8-45d3-b35e-1ce9dad8a591  final   \n",
       "4  33fd19d9-0824-48bf-a73a-841a5c2f7296  final   \n",
       "\n",
       "  code.coding_system__loinc.org__code  \\\n",
       "0                             21893-3   \n",
       "1                             63931-0   \n",
       "2                             85339-0   \n",
       "3                             85339-0   \n",
       "4                             21893-3   \n",
       "\n",
       "       code.coding_system__loinc.org__display resourceType  \\\n",
       "0  Regional lymph nodes positive [#] Specimen  Observation   \n",
       "1                           Date of Diagnosis  Observation   \n",
       "2                Progesterone Receptor Status  Observation   \n",
       "3                Progesterone Receptor Status  Observation   \n",
       "4  Regional lymph nodes positive [#] Specimen  Observation   \n",
       "\n",
       "   valueQuantity.value  effectiveDateTime.tz   effectiveDateTime.local  \\\n",
       "0                 27.0                   0.0 2008-01-01 00:00:00+00:00   \n",
       "1                  NaN                   0.0 2008-01-01 00:00:00+00:00   \n",
       "2                  NaN                   0.0 2011-01-01 00:00:00+00:00   \n",
       "3                  NaN                   0.0 2003-01-01 00:00:00+00:00   \n",
       "4                  0.0                   0.0 2004-01-01 00:00:00+00:00   \n",
       "\n",
       "                              subject.reference  \\\n",
       "0  Patient/7317e605-93ba-49a9-8743-20613b02767a   \n",
       "1  Patient/09c2bc35-c21f-4aa4-ac30-0d8db02ad811   \n",
       "2  Patient/d9dc3b59-613d-469e-8b4f-6c5a557eb26a   \n",
       "3  Patient/fe15c48b-116d-461e-9b40-68514730fd18   \n",
       "4  Patient/56bbd282-b88d-4730-9242-ab97d08dc83a   \n",
       "\n",
       "  meta.tag_system__lifeomic.com/fhir/dataset__code  meta.tag_lastUpdated.tz  \\\n",
       "0             34c0fb25-bbde-4eb1-87ed-dd4c7a1ac013                      NaN   \n",
       "1             34c0fb25-bbde-4eb1-87ed-dd4c7a1ac013                      0.0   \n",
       "2             34c0fb25-bbde-4eb1-87ed-dd4c7a1ac013                      NaN   \n",
       "3             34c0fb25-bbde-4eb1-87ed-dd4c7a1ac013                      NaN   \n",
       "4             34c0fb25-bbde-4eb1-87ed-dd4c7a1ac013                      NaN   \n",
       "\n",
       "  meta.tag_lastUpdated.local valueDateTime valueString  \n",
       "0                        NaT           NaN         NaN  \n",
       "1  2020-06-19 13:54:58+00:00    2008-01-01         NaN  \n",
       "2                        NaT           NaN    negative  \n",
       "3                        NaT           NaN    positive  \n",
       "4                        NaT           NaN         NaN  "
      ]
     },
     "execution_count": 13,
     "metadata": {},
     "output_type": "execute_result"
    }
   ],
   "source": [
    "observation_initial_df = phc.Observation.get_data_frame(\n",
    "    patient_ids=stage_df.index,\n",
    "    all_results=True\n",
    ")\n",
    "\n",
    "observation_initial_df.head()"
   ]
  },
  {
   "cell_type": "markdown",
   "id": "4d0f05df-9057-4587-84ba-0f3449006ccd",
   "metadata": {},
   "source": [
    "Let's make this massive table a bit simpler with the display and various value columns. The column `effectiveDateTime` will be kept since we'll likely need that for later transforms."
   ]
  },
  {
   "cell_type": "code",
   "execution_count": 14,
   "id": "79ded27f-d038-4e51-a426-e98b8b92e0d1",
   "metadata": {},
   "outputs": [
    {
     "data": {
      "text/html": [
       "<div>\n",
       "<style scoped>\n",
       "    .dataframe tbody tr th:only-of-type {\n",
       "        vertical-align: middle;\n",
       "    }\n",
       "\n",
       "    .dataframe tbody tr th {\n",
       "        vertical-align: top;\n",
       "    }\n",
       "\n",
       "    .dataframe thead th {\n",
       "        text-align: right;\n",
       "    }\n",
       "</style>\n",
       "<table border=\"1\" class=\"dataframe\">\n",
       "  <thead>\n",
       "    <tr style=\"text-align: right;\">\n",
       "      <th></th>\n",
       "      <th>patient_id</th>\n",
       "      <th>display</th>\n",
       "      <th>date</th>\n",
       "      <th>valueDateTime</th>\n",
       "      <th>valueNumeric</th>\n",
       "      <th>valueString</th>\n",
       "      <th>status</th>\n",
       "    </tr>\n",
       "  </thead>\n",
       "  <tbody>\n",
       "    <tr>\n",
       "      <th>0</th>\n",
       "      <td>7317e605-93ba-49a9-8743-20613b02767a</td>\n",
       "      <td>Regional lymph nodes positive [#] Specimen</td>\n",
       "      <td>2008-01-01</td>\n",
       "      <td>NaN</td>\n",
       "      <td>27.0</td>\n",
       "      <td>NaN</td>\n",
       "      <td>final</td>\n",
       "    </tr>\n",
       "    <tr>\n",
       "      <th>1</th>\n",
       "      <td>09c2bc35-c21f-4aa4-ac30-0d8db02ad811</td>\n",
       "      <td>Date of Diagnosis</td>\n",
       "      <td>2008-01-01</td>\n",
       "      <td>2008-01-01</td>\n",
       "      <td>NaN</td>\n",
       "      <td>NaN</td>\n",
       "      <td>NaN</td>\n",
       "    </tr>\n",
       "    <tr>\n",
       "      <th>2</th>\n",
       "      <td>d9dc3b59-613d-469e-8b4f-6c5a557eb26a</td>\n",
       "      <td>Progesterone Receptor Status</td>\n",
       "      <td>2011-01-01</td>\n",
       "      <td>NaN</td>\n",
       "      <td>NaN</td>\n",
       "      <td>negative</td>\n",
       "      <td>final</td>\n",
       "    </tr>\n",
       "    <tr>\n",
       "      <th>3</th>\n",
       "      <td>fe15c48b-116d-461e-9b40-68514730fd18</td>\n",
       "      <td>Progesterone Receptor Status</td>\n",
       "      <td>2003-01-01</td>\n",
       "      <td>NaN</td>\n",
       "      <td>NaN</td>\n",
       "      <td>positive</td>\n",
       "      <td>final</td>\n",
       "    </tr>\n",
       "    <tr>\n",
       "      <th>4</th>\n",
       "      <td>56bbd282-b88d-4730-9242-ab97d08dc83a</td>\n",
       "      <td>Regional lymph nodes positive [#] Specimen</td>\n",
       "      <td>2004-01-01</td>\n",
       "      <td>NaN</td>\n",
       "      <td>0.0</td>\n",
       "      <td>NaN</td>\n",
       "      <td>final</td>\n",
       "    </tr>\n",
       "  </tbody>\n",
       "</table>\n",
       "</div>"
      ],
      "text/plain": [
       "                             patient_id  \\\n",
       "0  7317e605-93ba-49a9-8743-20613b02767a   \n",
       "1  09c2bc35-c21f-4aa4-ac30-0d8db02ad811   \n",
       "2  d9dc3b59-613d-469e-8b4f-6c5a557eb26a   \n",
       "3  fe15c48b-116d-461e-9b40-68514730fd18   \n",
       "4  56bbd282-b88d-4730-9242-ab97d08dc83a   \n",
       "\n",
       "                                      display        date valueDateTime  \\\n",
       "0  Regional lymph nodes positive [#] Specimen  2008-01-01           NaN   \n",
       "1                           Date of Diagnosis  2008-01-01    2008-01-01   \n",
       "2                Progesterone Receptor Status  2011-01-01           NaN   \n",
       "3                Progesterone Receptor Status  2003-01-01           NaN   \n",
       "4  Regional lymph nodes positive [#] Specimen  2004-01-01           NaN   \n",
       "\n",
       "   valueNumeric valueString status  \n",
       "0          27.0         NaN  final  \n",
       "1           NaN         NaN    NaN  \n",
       "2           NaN    negative  final  \n",
       "3           NaN    positive  final  \n",
       "4           0.0         NaN  final  "
      ]
     },
     "execution_count": 14,
     "metadata": {},
     "output_type": "execute_result"
    }
   ],
   "source": [
    "observation_df = (\n",
    "    observation_initial_df\n",
    "    # Simplify some column names\n",
    "    .rename(columns={\n",
    "        \"subject.reference\": \"patient_id\",\n",
    "        \"code.coding_system__loinc.org__display\": \"display\",\n",
    "        \"effectiveDateTime.local\": \"date\",\n",
    "        \"valueQuantity.value\": \"valueNumeric\"\n",
    "    })\n",
    "    .pipe(\n",
    "        lambda df: df.assign(\n",
    "            # Make these values match the previous ids we have\n",
    "            patient_id=df[\"patient_id\"].str.replace(\"Patient/\", \"\"),\n",
    "            # Simplify datetime to date (since time data not present)\n",
    "            date=df[\"date\"].dt.date\n",
    "        )\n",
    "    )\n",
    "    [[\"patient_id\", \"display\", \"date\", \"valueDateTime\", \"valueNumeric\", \"valueString\", \"status\"]]\n",
    ")\n",
    "\n",
    "observation_df.head()"
   ]
  },
  {
   "cell_type": "markdown",
   "id": "d76c39b9-f543-4052-813b-535579213822",
   "metadata": {},
   "source": [
    "So, what do these Observation records actually contain? The `display` column of the FHIR codes will give us some insight."
   ]
  },
  {
   "cell_type": "code",
   "execution_count": 15,
   "id": "a462996c-bdcb-403a-95b7-94500fb71e7a",
   "metadata": {},
   "outputs": [
    {
     "data": {
      "text/plain": [
       "Date of Diagnosis                             760\n",
       "Date of Last Contact                          760\n",
       "Estrogen Receptor Status                      725\n",
       "Progesterone Receptor Status                  724\n",
       "HER2/neu receptor status                      642\n",
       "Regional lymph nodes positive [#] Specimen    635\n",
       "Date of Disease Progression                    95\n",
       "Name: display, dtype: int64"
      ]
     },
     "execution_count": 15,
     "metadata": {},
     "output_type": "execute_result"
    }
   ],
   "source": [
    "observation_df.display.value_counts()"
   ]
  },
  {
   "cell_type": "markdown",
   "id": "003613b4-6114-41d3-b0aa-51f72736ba84",
   "metadata": {},
   "source": [
    "For the first feature, we can employ the number of positive lymph nodes in the region. This will be an continuous integer feature."
   ]
  },
  {
   "cell_type": "code",
   "execution_count": 16,
   "id": "28293a90-8a22-4d13-a651-96f254173344",
   "metadata": {},
   "outputs": [
    {
     "data": {
      "text/plain": [
       "<AxesSubplot:ylabel='Frequency'>"
      ]
     },
     "execution_count": 16,
     "metadata": {},
     "output_type": "execute_result"
    },
    {
     "data": {
      "image/png": "[encoded data removed]",
      "text/plain": [
       "<Figure size 432x288 with 1 Axes>"
      ]
     },
     "metadata": {
      "needs_background": "light"
     },
     "output_type": "display_data"
    }
   ],
   "source": [
    "positive_region_lymph_df = (\n",
    "    observation_df[observation_df.display == \"Regional lymph nodes positive [#] Specimen\"]\n",
    "    .sort_values(\"date\", ascending=True).groupby(\"patient_id\").first()\n",
    "    [\"valueNumeric\"]\n",
    ")\n",
    "\n",
    "positive_region_lymph_df.plot.hist(bins=35)"
   ]
  },
  {
   "cell_type": "markdown",
   "id": "720c7118-7c23-4199-b346-cf856f84d2d9",
   "metadata": {},
   "source": [
    "For another feature, we can use the receptor status results as categorical input for our stage predictor."
   ]
  },
  {
   "cell_type": "code",
   "execution_count": 17,
   "id": "884e8d0c-a2f0-4dd7-9632-348f7896e809",
   "metadata": {},
   "outputs": [
    {
     "data": {
      "text/plain": [
       "positive         1099\n",
       "negative          852\n",
       "equivocal         126\n",
       "indeterminate      14\n",
       "Name: valueString, dtype: int64"
      ]
     },
     "execution_count": 17,
     "metadata": {},
     "output_type": "execute_result"
    }
   ],
   "source": [
    "observation_df[observation_df.display.isin([\n",
    "    \"Estrogen Receptor Status\",\n",
    "    \"Progesterone Receptor Status\",\n",
    "    \"HER2/neu receptor status\"\n",
    "])].valueString.value_counts()"
   ]
  },
  {
   "cell_type": "code",
   "execution_count": 18,
   "id": "c1a41cbc-fefd-440e-b4bb-020072562e7e",
   "metadata": {},
   "outputs": [],
   "source": [
    "# Verify that all of these records only have one record per patient since we\n",
    "# would handle the feature differently if there were multiple\n",
    "\n",
    "assert observation_df[observation_df.display == \"Estrogen Receptor Status\"].pipe(\n",
    "    lambda df: df.patient_id.nunique() == len(df)\n",
    ")\n",
    "\n",
    "assert observation_df[observation_df.display == \"Progesterone Receptor Status\"].pipe(\n",
    "    lambda df: df.patient_id.nunique() == len(df)\n",
    ")\n",
    "\n",
    "assert observation_df[observation_df.display == \"HER2/neu receptor status\"].pipe(\n",
    "    lambda df: df.patient_id.nunique() == len(df)\n",
    ")"
   ]
  },
  {
   "cell_type": "markdown",
   "id": "c4db03ec-314b-4ad3-9b42-8b47a98af1c6",
   "metadata": {},
   "source": [
    "To quickly build up a feature column for each with the categorical `valueString` value in each, we can employ a pivot table that grabs the first one of that `display` for a given `patient_id`."
   ]
  },
  {
   "cell_type": "code",
   "execution_count": 19,
   "id": "80530f63-39f3-49c9-b42b-4ffec0b012b0",
   "metadata": {},
   "outputs": [
    {
     "data": {
      "text/html": [
       "<div>\n",
       "<style scoped>\n",
       "    .dataframe tbody tr th:only-of-type {\n",
       "        vertical-align: middle;\n",
       "    }\n",
       "\n",
       "    .dataframe tbody tr th {\n",
       "        vertical-align: top;\n",
       "    }\n",
       "\n",
       "    .dataframe thead th {\n",
       "        text-align: right;\n",
       "    }\n",
       "</style>\n",
       "<table border=\"1\" class=\"dataframe\">\n",
       "  <thead>\n",
       "    <tr style=\"text-align: right;\">\n",
       "      <th>display</th>\n",
       "      <th>Estrogen Receptor Status</th>\n",
       "      <th>HER2/neu receptor status</th>\n",
       "      <th>Progesterone Receptor Status</th>\n",
       "    </tr>\n",
       "    <tr>\n",
       "      <th>patient_id</th>\n",
       "      <th></th>\n",
       "      <th></th>\n",
       "      <th></th>\n",
       "    </tr>\n",
       "  </thead>\n",
       "  <tbody>\n",
       "    <tr>\n",
       "      <th>001cef41-ff86-4d3f-a140-a647ac4b10a1</th>\n",
       "      <td>positive</td>\n",
       "      <td>negative</td>\n",
       "      <td>positive</td>\n",
       "    </tr>\n",
       "    <tr>\n",
       "      <th>00a2d166-78c9-4687-a195-3d6315c27574</th>\n",
       "      <td>positive</td>\n",
       "      <td>negative</td>\n",
       "      <td>negative</td>\n",
       "    </tr>\n",
       "    <tr>\n",
       "      <th>01263518-5f7c-49dc-8d7e-84b0c03a6a63</th>\n",
       "      <td>positive</td>\n",
       "      <td>negative</td>\n",
       "      <td>positive</td>\n",
       "    </tr>\n",
       "    <tr>\n",
       "      <th>0130d616-885e-4a6c-9d03-2f17dd692a05</th>\n",
       "      <td>positive</td>\n",
       "      <td>positive</td>\n",
       "      <td>positive</td>\n",
       "    </tr>\n",
       "    <tr>\n",
       "      <th>01674b2c-5cf2-478f-84a1-f69c39f47bd4</th>\n",
       "      <td>negative</td>\n",
       "      <td>equivocal</td>\n",
       "      <td>negative</td>\n",
       "    </tr>\n",
       "  </tbody>\n",
       "</table>\n",
       "</div>"
      ],
      "text/plain": [
       "display                              Estrogen Receptor Status  \\\n",
       "patient_id                                                      \n",
       "001cef41-ff86-4d3f-a140-a647ac4b10a1                 positive   \n",
       "00a2d166-78c9-4687-a195-3d6315c27574                 positive   \n",
       "01263518-5f7c-49dc-8d7e-84b0c03a6a63                 positive   \n",
       "0130d616-885e-4a6c-9d03-2f17dd692a05                 positive   \n",
       "01674b2c-5cf2-478f-84a1-f69c39f47bd4                 negative   \n",
       "\n",
       "display                              HER2/neu receptor status  \\\n",
       "patient_id                                                      \n",
       "001cef41-ff86-4d3f-a140-a647ac4b10a1                 negative   \n",
       "00a2d166-78c9-4687-a195-3d6315c27574                 negative   \n",
       "01263518-5f7c-49dc-8d7e-84b0c03a6a63                 negative   \n",
       "0130d616-885e-4a6c-9d03-2f17dd692a05                 positive   \n",
       "01674b2c-5cf2-478f-84a1-f69c39f47bd4                equivocal   \n",
       "\n",
       "display                              Progesterone Receptor Status  \n",
       "patient_id                                                         \n",
       "001cef41-ff86-4d3f-a140-a647ac4b10a1                     positive  \n",
       "00a2d166-78c9-4687-a195-3d6315c27574                     negative  \n",
       "01263518-5f7c-49dc-8d7e-84b0c03a6a63                     positive  \n",
       "0130d616-885e-4a6c-9d03-2f17dd692a05                     positive  \n",
       "01674b2c-5cf2-478f-84a1-f69c39f47bd4                     negative  "
      ]
     },
     "execution_count": 19,
     "metadata": {},
     "output_type": "execute_result"
    }
   ],
   "source": [
    "recepter_status_df = (\n",
    "    observation_df[observation_df.display.isin([\n",
    "        \"Estrogen Receptor Status\",\n",
    "        \"Progesterone Receptor Status\",\n",
    "        \"HER2/neu receptor status\"\n",
    "    ])]\n",
    "    .pipe(\n",
    "        lambda df: pd.pivot_table(\n",
    "            df,\n",
    "            index=\"patient_id\",\n",
    "            columns=\"display\",\n",
    "            values=\"valueString\",\n",
    "            aggfunc=\"first\"\n",
    "        ).fillna(\"unknown\")\n",
    "    )\n",
    ")\n",
    "\n",
    "recepter_status_df.head()"
   ]
  },
  {
   "cell_type": "markdown",
   "id": "5242cbfd-6624-4a14-8b50-15b22531f500",
   "metadata": {},
   "source": [
    "## Assemble Data Frame\n",
    "\n",
    "Of course, we could keep exploring the data and gathering various features, but let's go ahead and just combine what we have."
   ]
  },
  {
   "cell_type": "code",
   "execution_count": 20,
   "id": "247e25b8-5b0c-4d19-a00c-bb7ba8f85afa",
   "metadata": {},
   "outputs": [
    {
     "data": {
      "text/html": [
       "<div>\n",
       "<style scoped>\n",
       "    .dataframe tbody tr th:only-of-type {\n",
       "        vertical-align: middle;\n",
       "    }\n",
       "\n",
       "    .dataframe tbody tr th {\n",
       "        vertical-align: top;\n",
       "    }\n",
       "\n",
       "    .dataframe thead th {\n",
       "        text-align: right;\n",
       "    }\n",
       "</style>\n",
       "<table border=\"1\" class=\"dataframe\">\n",
       "  <thead>\n",
       "    <tr style=\"text-align: right;\">\n",
       "      <th></th>\n",
       "      <th>race</th>\n",
       "      <th>birthYear</th>\n",
       "      <th>positive_region_lymphs</th>\n",
       "      <th>Estrogen Receptor Status</th>\n",
       "      <th>HER2/neu receptor status</th>\n",
       "      <th>Progesterone Receptor Status</th>\n",
       "      <th>stage</th>\n",
       "    </tr>\n",
       "    <tr>\n",
       "      <th>id</th>\n",
       "      <th></th>\n",
       "      <th></th>\n",
       "      <th></th>\n",
       "      <th></th>\n",
       "      <th></th>\n",
       "      <th></th>\n",
       "      <th></th>\n",
       "    </tr>\n",
       "  </thead>\n",
       "  <tbody>\n",
       "    <tr>\n",
       "      <th>1f8f87cb-8a0b-474c-97fb-c71b4fd88d97</th>\n",
       "      <td>white</td>\n",
       "      <td>1930</td>\n",
       "      <td>1</td>\n",
       "      <td>positive</td>\n",
       "      <td>equivocal</td>\n",
       "      <td>positive</td>\n",
       "      <td>Clinical stage II (finding)</td>\n",
       "    </tr>\n",
       "    <tr>\n",
       "      <th>21ef1730-e5a7-47ce-b419-d000bb59ae15</th>\n",
       "      <td>white</td>\n",
       "      <td>1919</td>\n",
       "      <td>1</td>\n",
       "      <td>negative</td>\n",
       "      <td>negative</td>\n",
       "      <td>indeterminate</td>\n",
       "      <td>Clinical stage II (finding)</td>\n",
       "    </tr>\n",
       "    <tr>\n",
       "      <th>23dabeef-8e3c-44bc-9a12-a9522d17be5c</th>\n",
       "      <td>unknown</td>\n",
       "      <td>1939</td>\n",
       "      <td>0</td>\n",
       "      <td>positive</td>\n",
       "      <td>positive</td>\n",
       "      <td>positive</td>\n",
       "      <td>Clinical stage II (finding)</td>\n",
       "    </tr>\n",
       "    <tr>\n",
       "      <th>26573441-eedb-4364-966c-e7f803deef19</th>\n",
       "      <td>white</td>\n",
       "      <td>1952</td>\n",
       "      <td>0</td>\n",
       "      <td>positive</td>\n",
       "      <td>negative</td>\n",
       "      <td>positive</td>\n",
       "      <td>Clinical stage I (finding)</td>\n",
       "    </tr>\n",
       "    <tr>\n",
       "      <th>27dfb9d4-3a2c-44bc-9acf-8f638d3f3004</th>\n",
       "      <td>white</td>\n",
       "      <td>1946</td>\n",
       "      <td>1</td>\n",
       "      <td>positive</td>\n",
       "      <td>equivocal</td>\n",
       "      <td>positive</td>\n",
       "      <td>Clinical stage II (finding)</td>\n",
       "    </tr>\n",
       "  </tbody>\n",
       "</table>\n",
       "</div>"
      ],
      "text/plain": [
       "                                         race  birthYear  \\\n",
       "id                                                         \n",
       "1f8f87cb-8a0b-474c-97fb-c71b4fd88d97    white       1930   \n",
       "21ef1730-e5a7-47ce-b419-d000bb59ae15    white       1919   \n",
       "23dabeef-8e3c-44bc-9a12-a9522d17be5c  unknown       1939   \n",
       "26573441-eedb-4364-966c-e7f803deef19    white       1952   \n",
       "27dfb9d4-3a2c-44bc-9acf-8f638d3f3004    white       1946   \n",
       "\n",
       "                                      positive_region_lymphs  \\\n",
       "id                                                             \n",
       "1f8f87cb-8a0b-474c-97fb-c71b4fd88d97                       1   \n",
       "21ef1730-e5a7-47ce-b419-d000bb59ae15                       1   \n",
       "23dabeef-8e3c-44bc-9a12-a9522d17be5c                       0   \n",
       "26573441-eedb-4364-966c-e7f803deef19                       0   \n",
       "27dfb9d4-3a2c-44bc-9acf-8f638d3f3004                       1   \n",
       "\n",
       "                                     Estrogen Receptor Status  \\\n",
       "id                                                              \n",
       "1f8f87cb-8a0b-474c-97fb-c71b4fd88d97                 positive   \n",
       "21ef1730-e5a7-47ce-b419-d000bb59ae15                 negative   \n",
       "23dabeef-8e3c-44bc-9a12-a9522d17be5c                 positive   \n",
       "26573441-eedb-4364-966c-e7f803deef19                 positive   \n",
       "27dfb9d4-3a2c-44bc-9acf-8f638d3f3004                 positive   \n",
       "\n",
       "                                     HER2/neu receptor status  \\\n",
       "id                                                              \n",
       "1f8f87cb-8a0b-474c-97fb-c71b4fd88d97                equivocal   \n",
       "21ef1730-e5a7-47ce-b419-d000bb59ae15                 negative   \n",
       "23dabeef-8e3c-44bc-9a12-a9522d17be5c                 positive   \n",
       "26573441-eedb-4364-966c-e7f803deef19                 negative   \n",
       "27dfb9d4-3a2c-44bc-9acf-8f638d3f3004                equivocal   \n",
       "\n",
       "                                     Progesterone Receptor Status  \\\n",
       "id                                                                  \n",
       "1f8f87cb-8a0b-474c-97fb-c71b4fd88d97                     positive   \n",
       "21ef1730-e5a7-47ce-b419-d000bb59ae15                indeterminate   \n",
       "23dabeef-8e3c-44bc-9a12-a9522d17be5c                     positive   \n",
       "26573441-eedb-4364-966c-e7f803deef19                     positive   \n",
       "27dfb9d4-3a2c-44bc-9acf-8f638d3f3004                     positive   \n",
       "\n",
       "                                                            stage  \n",
       "id                                                                 \n",
       "1f8f87cb-8a0b-474c-97fb-c71b4fd88d97  Clinical stage II (finding)  \n",
       "21ef1730-e5a7-47ce-b419-d000bb59ae15  Clinical stage II (finding)  \n",
       "23dabeef-8e3c-44bc-9a12-a9522d17be5c  Clinical stage II (finding)  \n",
       "26573441-eedb-4364-966c-e7f803deef19   Clinical stage I (finding)  \n",
       "27dfb9d4-3a2c-44bc-9acf-8f638d3f3004  Clinical stage II (finding)  "
      ]
     },
     "execution_count": 20,
     "metadata": {},
     "output_type": "execute_result"
    }
   ],
   "source": [
    "full_frame = (\n",
    "    patient_df[[\"id\", \"race\", \"birthYear\"]]\n",
    "    .join(positive_region_lymph_df.to_frame(\"positive_region_lymphs\"), on=\"id\")\n",
    "    .join(recepter_status_df, on=\"id\")\n",
    "    .join(stage_df.stage, on=\"id\")\n",
    "    .pipe(\n",
    "        # Clean up joined missing values\n",
    "        lambda df: df.assign(\n",
    "            birthYear=df[\"birthYear\"].fillna(-1).astype(int),\n",
    "            race=df[\"race\"].astype(\"category\"),\n",
    "            positive_region_lymphs=df[\"positive_region_lymphs\"].fillna(0).astype(int),\n",
    "            **{\n",
    "                k: df[k].fillna(\"unknown\").astype(\"category\")\n",
    "                for k in recepter_status_df.columns\n",
    "            }\n",
    "        )\n",
    "    )\n",
    "    .set_index(\"id\")\n",
    ")\n",
    "\n",
    "full_frame.head()"
   ]
  },
  {
   "cell_type": "markdown",
   "id": "f4c66e61-c5a5-49c2-baa2-b6f0994ae8e4",
   "metadata": {},
   "source": [
    "## Building a Random Forest Classifier"
   ]
  },
  {
   "cell_type": "markdown",
   "id": "74fb017b-1823-4b94-9382-e151f1f72ce8",
   "metadata": {},
   "source": [
    "Before moving on, we note that the target `stage` column has a significant class imbalance. We'll use this knowledge to perform some class weighting to even the imbalance."
   ]
  },
  {
   "cell_type": "code",
   "execution_count": 21,
   "id": "13d312c9-53df-425f-ace2-9ad98ea7249e",
   "metadata": {},
   "outputs": [
    {
     "data": {
      "text/plain": [
       "<AxesSubplot:>"
      ]
     },
     "execution_count": 21,
     "metadata": {},
     "output_type": "execute_result"
    },
    {
     "data": {
      "image/png": "[encoded data removed]",
      "text/plain": [
       "<Figure size 432x288 with 1 Axes>"
      ]
     },
     "metadata": {
      "needs_background": "light"
     },
     "output_type": "display_data"
    }
   ],
   "source": [
    "full_frame.stage.value_counts().sort_index(ascending=False).plot.barh()"
   ]
  },
  {
   "cell_type": "markdown",
   "id": "d738b7b5-8303-4d9e-8652-d137762dc37f",
   "metadata": {},
   "source": [
    "For class weights, we want to provide extra weight to the scarce classes to even the classes. This step will give us a better perception of how the model might perform on data is has never seen."
   ]
  },
  {
   "cell_type": "code",
   "execution_count": 22,
   "id": "d6efdc2d-883c-4025-b164-d568588c593d",
   "metadata": {},
   "outputs": [
    {
     "data": {
      "text/plain": [
       "Clinical stage II (finding)     0.41\n",
       "Clinical stage III (finding)    0.80\n",
       "Clinical stage I (finding)      0.82\n",
       "Clinical stage IV (finding)     0.98\n",
       "Name: stage, dtype: float64"
      ]
     },
     "execution_count": 22,
     "metadata": {},
     "output_type": "execute_result"
    }
   ],
   "source": [
    "# Build class weights (do not need to add to one)\n",
    "class_weights = (1 - (full_frame.stage.value_counts() / len(full_frame))).round(2)\n",
    "\n",
    "class_weights"
   ]
  },
  {
   "cell_type": "markdown",
   "id": "2cf31e03-85a3-4409-88ac-586739a3f003",
   "metadata": {},
   "source": [
    "In building the reference frame, all of the feature columns will need to be ordinally encoded (converted from classes to integers). The target column is left alone since the classifier automatically treats it as ordinal."
   ]
  },
  {
   "cell_type": "code",
   "execution_count": 23,
   "id": "24f5ff99-c5b3-496b-90b4-4d209f04abf6",
   "metadata": {},
   "outputs": [],
   "source": [
    "data_full_frame = full_frame.assign(**{\n",
    "    # Convert all feature columns to integers\n",
    "    k: full_frame[k].cat.codes\n",
    "    for k in full_frame.columns\n",
    "    if full_frame[k].dtype.name == \"category\" and k != \"stage\"\n",
    "})\n",
    "\n",
    "# Separate into features and the target column\n",
    "X = data_full_frame[[\"race\", \"birthYear\", \"positive_region_lymphs\", *recepter_status_df.columns]]\n",
    "y = data_full_frame.stage\n",
    "\n",
    "# Split into train/test\n",
    "X_train, X_test, y_train, y_test = train_test_split(X, y, test_size=0.2, random_state=SEED)"
   ]
  },
  {
   "cell_type": "code",
   "execution_count": 24,
   "id": "87f52532-3462-4936-b004-086f7438cd98",
   "metadata": {},
   "outputs": [
    {
     "data": {
      "text/plain": [
       "RandomForestClassifier(class_weight={'Clinical stage I (finding)': 0.82,\n",
       "                                     'Clinical stage II (finding)': 0.41,\n",
       "                                     'Clinical stage III (finding)': 0.8,\n",
       "                                     'Clinical stage IV (finding)': 0.98},\n",
       "                       random_state=1337)"
      ]
     },
     "execution_count": 24,
     "metadata": {},
     "output_type": "execute_result"
    }
   ],
   "source": [
    "# Use sklearn's random forest classifier with stock options\n",
    "forest = RandomForestClassifier(\n",
    "    class_weight=class_weights.to_dict(),\n",
    "    random_state=SEED,\n",
    ")\n",
    "\n",
    "# Fit against our data\n",
    "forest.fit(X_train, y_train)"
   ]
  },
  {
   "cell_type": "code",
   "execution_count": 25,
   "id": "519a7c13-6b53-4b59-a789-3eb4acb7c303",
   "metadata": {},
   "outputs": [
    {
     "name": "stdout",
     "output_type": "stream",
     "text": [
      "Accuracy: 63.8%\n"
     ]
    }
   ],
   "source": [
    "# Run the built-in accuracy scoring\n",
    "print(f\"Accuracy: {100 * forest.score(X_test, y_test):.1f}%\")"
   ]
  },
  {
   "cell_type": "code",
   "execution_count": 26,
   "id": "4c7477fd-4a0c-472e-ab14-a44dc8773032",
   "metadata": {},
   "outputs": [
    {
     "data": {
      "text/plain": [
       "<sklearn.metrics._plot.confusion_matrix.ConfusionMatrixDisplay at 0x7fcc747509a0>"
      ]
     },
     "execution_count": 26,
     "metadata": {},
     "output_type": "execute_result"
    },
    {
     "data": {
      "image/png": "[encoded data removed]",
      "text/plain": [
       "<Figure size 432x288 with 2 Axes>"
      ]
     },
     "metadata": {
      "needs_background": "light"
     },
     "output_type": "display_data"
    }
   ],
   "source": [
    "disp = ConfusionMatrixDisplay(\n",
    "    confusion_matrix=confusion_matrix(y_test, forest.predict(X_test)),\n",
    "    display_labels=[\"S\" + c[10:-10] for c in forest.classes_]\n",
    ")\n",
    "\n",
    "disp.plot()"
   ]
  },
  {
   "cell_type": "markdown",
   "id": "4475541b-02c1-47ab-af20-85984f1d20ec",
   "metadata": {},
   "source": [
    "# Conclusion\n",
    "\n",
    "Hopefully, this example notebook has demonstrated some possibilities with the Precision Health Cloud. We've only scratched the surface of how and even what data you can pull the PHC (e.g. genomic variants, genomic expression data, dozens of FHIR resources, data lake). The SDK performs much of the work of flexible querying, auto-caching, and auto-conversion of FHIR data into tabular form to mention just a few features.\n",
    "\n",
    "The Python SDK and our APIs were built with data scientists in mind. ❤️\n",
    "\n",
    "**Want to learn more?** Check out the [API Docs](https://lifeomic.github.io/phc-sdk-py/easy/index.html) and the [User Guides](https://docs.us.lifeomic.com/user-guides/python-sdk/) for the Python SDK. \n",
    "\n",
    "**Found a bug?** Check out our [issue tracker on GitHub](https://github.com/lifeomic/phc-sdk-py/issues) and feel free to leave a comment or question."
   ]
  }
 ],
 "metadata": {
  "kernelspec": {
   "display_name": "Python 3 (ipykernel)",
   "language": "python",
   "name": "python3"
  },
  "language_info": {
   "codemirror_mode": {
    "name": "ipython",
    "version": 3
   },
   "file_extension": ".py",
   "mimetype": "text/x-python",
   "name": "python",
   "nbconvert_exporter": "python",
   "pygments_lexer": "ipython3",
   "version": "3.9.6"
  }
 },
 "nbformat": 4,
 "nbformat_minor": 5
}
